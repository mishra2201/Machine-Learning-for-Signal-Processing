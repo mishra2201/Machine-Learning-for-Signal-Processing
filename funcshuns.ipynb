{
 "cells": [
  {
   "cell_type": "markdown",
   "id": "80c753e6",
   "metadata": {},
   "source": [
    "i know how 'functions' is spelled"
   ]
  },
  {
   "cell_type": "code",
   "execution_count": 2,
   "id": "607d059b",
   "metadata": {},
   "outputs": [],
   "source": [
    "def scale_data(arr, axis, proportions = None, shape = None, **args):\n",
    "    "
   ]
  },
  {
   "cell_type": "code",
   "execution_count": null,
   "id": "97a5b686",
   "metadata": {},
   "outputs": [],
   "source": []
  }
 ],
 "metadata": {
  "kernelspec": {
   "display_name": "Python (testenv)",
   "language": "python",
   "name": "testenv"
  },
  "language_info": {
   "codemirror_mode": {
    "name": "ipython",
    "version": 3
   },
   "file_extension": ".py",
   "mimetype": "text/x-python",
   "name": "python",
   "nbconvert_exporter": "python",
   "pygments_lexer": "ipython3",
   "version": "3.12.9"
  }
 },
 "nbformat": 4,
 "nbformat_minor": 5
}
